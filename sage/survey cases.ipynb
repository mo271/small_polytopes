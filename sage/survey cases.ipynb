{
 "cells": [
  {
   "cell_type": "markdown",
   "id": "b67fb323",
   "metadata": {},
   "source": [
    "Copyright 2021 Google LLC\n",
    "\n",
    "Licensed under the Apache License, Version 2.0 (the \"License\");\n",
    "you may not use this file except in compliance with the License.\n",
    "You may obtain a copy of the License at\n",
    "\n",
    "    https://www.apache.org/licenses/LICENSE-2.0\n",
    "\n",
    "Unless required by applicable law or agreed to in writing, software\n",
    "distributed under the License is distributed on an \"AS IS\" BASIS,\n",
    "WITHOUT WARRANTIES OR CONDITIONS OF ANY KIND, either express or implied.\n",
    "See the License for the specific language governing permissions and\n",
    "limitations under the License."
   ]
  },
  {
   "cell_type": "code",
   "execution_count": 1,
   "id": "ceadb5bf",
   "metadata": {},
   "outputs": [],
   "source": [
    "import os"
   ]
  },
  {
   "cell_type": "code",
   "execution_count": 2,
   "id": "0f4ff971",
   "metadata": {},
   "outputs": [
    {
     "name": "stdout",
     "output_type": "stream",
     "text": [
      "210\n"
     ]
    }
   ],
   "source": [
    "solved_path = '../small_fat_4_polys/'\n",
    "verified_solutions = {sage_eval(poly.split(\"_\")[0]) for poly in os.listdir(solved_path)}\n",
    "print(len(verified_solutions))"
   ]
  },
  {
   "cell_type": "code",
   "execution_count": 3,
   "id": "4b4af418",
   "metadata": {},
   "outputs": [],
   "source": [
    "nn = 23\n",
    "def get_lower(i):\n",
    "    exact_lower = ceil(i/2)\n",
    "    if not (i+ exact_lower)%2:\n",
    "        return exact_lower\n",
    "    else:\n",
    "        return exact_lower + 1\n",
    "highest_solved = {i: get_lower(i) - 1 for i in range(nn)}\n",
    "def get_next(solved):\n",
    "    for i in range(nn):\n",
    "        highest_solved[i] = max([j for (ii,j) in solved if i == ii], default=get_lower(i)-1)\n",
    "    cands = [(i, j) for i in range(nn) for j in range(get_lower(i), highest_solved[i]+7) if not (i+j)%2]\n",
    "    unsovled_cands = [cand for cand in cands if cand not in solved]\n",
    "    return unsovled_cands"
   ]
  },
  {
   "cell_type": "code",
   "execution_count": 4,
   "id": "47471a9a",
   "metadata": {},
   "outputs": [],
   "source": [
    "rest = get_next(verified_solutions)"
   ]
  },
  {
   "cell_type": "code",
   "execution_count": 5,
   "id": "d023a908",
   "metadata": {},
   "outputs": [],
   "source": [
    "with open('rest_commands', 'w') as f:\n",
    "    f.write('\\n'.join(f'~/sage/sage sage/find_target.sage {a} {b}' for a, b in set(rest)))"
   ]
  },
  {
   "cell_type": "code",
   "execution_count": 6,
   "id": "7e165d55",
   "metadata": {},
   "outputs": [],
   "source": [
    "latex_punkte = ', '.join([f'{i}/{j}/{{}}'  for i,j in verified_solutions])\n",
    "with open('../tex/all_points.tex', 'w') as f:\n",
    "    f.write(latex_punkte)"
   ]
  },
  {
   "cell_type": "code",
   "execution_count": null,
   "id": "2c958ed0",
   "metadata": {},
   "outputs": [],
   "source": []
  }
 ],
 "metadata": {
  "kernelspec": {
   "display_name": "SageMath 9.5.beta4",
   "language": "sage",
   "name": "sagemath"
  },
  "language_info": {
   "codemirror_mode": {
    "name": "ipython",
    "version": 3
   },
   "file_extension": ".py",
   "mimetype": "text/x-python",
   "name": "python",
   "nbconvert_exporter": "python",
   "pygments_lexer": "ipython3",
   "version": "3.9.7"
  }
 },
 "nbformat": 4,
 "nbformat_minor": 5
}
